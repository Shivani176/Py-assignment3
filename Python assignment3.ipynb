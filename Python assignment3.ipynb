{
 "cells": [
  {
   "cell_type": "markdown",
   "metadata": {},
   "source": [
    "1.1 Write a Python Program to implement your own myreduce() function which works exactly like Python's built-in function reduce()"
   ]
  },
  {
   "cell_type": "code",
   "execution_count": 1,
   "metadata": {},
   "outputs": [
    {
     "name": "stdout",
     "output_type": "stream",
     "text": [
      "Input:\n",
      "insert the number :32\n",
      "Output:\n",
      "List of First n Natural numbers are: [1, 2, 3, 4, 5, 6, 7, 8, 9, 10, 11, 12, 13, 14, 15, 16, 17, 18, 19, 20, 21, 22, 23, 24, 25, 26, 27, 28, 29, 30, 31, 32]\n",
      "Sum of List elements are : 528\n"
     ]
    }
   ],
   "source": [
    "def myreduce(num):\n",
    "    numList=list(range(1,number+1))\n",
    "    sumofElements=0\n",
    "    \n",
    "    for i in numList:\n",
    "        sumofElements += i\n",
    "        \n",
    "    return numList,sumofElements\n",
    "\n",
    "\n",
    "print(\"Input:\")\n",
    "number=int(input(\"insert the number :\"))\n",
    "\n",
    "output=myreduce(number)\n",
    "\n",
    "\n",
    "print(\"Output:\")\n",
    "print(\"List of First n Natural numbers are:\",output[0])\n",
    "print(\"Sum of List elements are :\",output[1])"
   ]
  },
  {
   "cell_type": "markdown",
   "metadata": {},
   "source": [
    "1.2 Write a Python program to implement your own myfilter() function which works exactly like Python's built-in function filter()"
   ]
  },
  {
   "cell_type": "code",
   "execution_count": 2,
   "metadata": {},
   "outputs": [
    {
     "name": "stdout",
     "output_type": "stream",
     "text": [
      "Input:\n",
      "insert the number: 22\n",
      "Output:\n",
      "List of numbers: [1, 2, 3, 4, 5, 6, 7, 8, 9, 10, 11, 12, 13, 14, 15, 16, 17, 18, 19, 20, 21, 22]\n",
      "List of Even numbers, which are multiples of 5 are: [10, 20]\n",
      "List of Odd numbers, which are multiples of 5 are: [5, 15]\n"
     ]
    }
   ],
   "source": [
    "print(\"Input:\")\n",
    "number=int(input(\"insert the number: \"))\n",
    "\n",
    "number_list=list(range(1,number+1))\n",
    "\n",
    "\n",
    "def myfilter(number_list):\n",
    "    evenList=[]\n",
    "    oddList=[]\n",
    "    \n",
    "    for i in number_list:\n",
    "        if(i%5 == 0):\n",
    "            if(i%2 == 0):\n",
    "                evenList.append(i)\n",
    "            else:\n",
    "                oddList.append(i)\n",
    "                \n",
    "    return evenList,oddList\n",
    "\n",
    "\n",
    "\n",
    "output=myfilter(number_list)\n",
    "\n",
    "\n",
    "print(\"Output:\")\n",
    "print(\"List of numbers:\",number_list)\n",
    "print(\"List of Even numbers, which are multiples of 5 are:\",output[0])\n",
    "print(\"List of Odd numbers, which are multiples of 5 are:\",output[1])"
   ]
  },
  {
   "cell_type": "markdown",
   "metadata": {},
   "source": [
    "Problem_2. Implement List comprehensions to produce the following lists. Write List comprehensions to produce the following Lists\n",
    "['x', 'xx', 'xxx', 'xxxx', 'y', 'yy', 'yyy', 'yyyy', 'z', 'zz', 'zzz', 'zzzz']\n",
    "['x', 'y', 'z', 'xx', 'yy', 'zz', 'xx', 'yy', 'zz', 'xxxx', 'yyyy', 'zzzz'] \n",
    "[[2], [3], [4], [3], [4], [5], [4], [5], [6]] [[2, 3, 4, 5], [3, 4, 5, 6], [4, 5, 6, 7], [5, 6, 7, 8]] \n",
    "[(1, 1), (2, 1), (3, 1), (1, 2), (2, 2), (3, 2), (1, 3), (2, 3), (3, 3)]"
   ]
  },
  {
   "cell_type": "code",
   "execution_count": 3,
   "metadata": {},
   "outputs": [
    {
     "name": "stdout",
     "output_type": "stream",
     "text": [
      "['x', 'xx', 'xxx', 'xxxx', 'y', 'yy', 'yyy', 'yyyy', 'z', 'zz', 'zzz', 'zzzz']\n",
      "['x', 'y', 'z', 'xx', 'yy', 'zz', 'xxx', 'yyy', 'zzz', 'xxxx', 'yyyy', 'zzzz']\n",
      "[[2], [3], [4], [3], [4], [5], [4], [5], [6]]\n",
      "[[2, 3, 4, 5], [3, 4, 5, 6], [4, 5, 6, 7], [5, 6, 7, 8]]\n",
      "[(1, 1), (2, 1), (3, 1), (1, 2), (2, 2), (3, 2), (1, 3), (2, 3), (3, 3)]\n"
     ]
    }
   ],
   "source": [
    "word1=list('xyz')\n",
    "word2=[x*n for x in word1 for n in range(1,5) ]\n",
    "print(word2)\n",
    "\n",
    "\n",
    "word3=[x*n for n in range(1,5) for x in word1 ]\n",
    "print(word3)\n",
    "\n",
    "\n",
    "number=[2,3,4]\n",
    "num1=[[x+n] for x in number for n in range(0,3)]\n",
    "print(num1)\n",
    "\n",
    "\n",
    "num2=[2,3,4,5]\n",
    "num3=[[x+n for n in range(0,4)] for x in num2 ]\n",
    "print(num3)\n",
    "\n",
    "\n",
    "num4=[1,2,3]\n",
    "num5= [(b,a) for a in num4 for b in num4]\n",
    "print(num5)"
   ]
  },
  {
   "cell_type": "code",
   "execution_count": null,
   "metadata": {},
   "outputs": [],
   "source": []
  }
 ],
 "metadata": {
  "kernelspec": {
   "display_name": "Python 3",
   "language": "python",
   "name": "python3"
  },
  "language_info": {
   "codemirror_mode": {
    "name": "ipython",
    "version": 3
   },
   "file_extension": ".py",
   "mimetype": "text/x-python",
   "name": "python",
   "nbconvert_exporter": "python",
   "pygments_lexer": "ipython3",
   "version": "3.7.3"
  }
 },
 "nbformat": 4,
 "nbformat_minor": 2
}
